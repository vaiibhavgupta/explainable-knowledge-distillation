{
 "cells": [
  {
   "cell_type": "markdown",
   "id": "40057c34-1130-4983-9256-433b49951aae",
   "metadata": {},
   "source": [
    "## B-cos Explanations"
   ]
  },
  {
   "cell_type": "code",
   "execution_count": null,
   "id": "467c6be2-4bec-44cc-9360-13ac37a22ab1",
   "metadata": {},
   "outputs": [],
   "source": [
    "import torch\n",
    "from bcos_layer import BcosConv2d\n",
    "\n",
    "model = torch.hub.load('B-cos/B-cos-v2', 'resnet34', pretrained=True)\n",
    "model.fc = BcosConv2d(in_channels=512, out_channels=5)\n",
    "model.load_state_dict(torch.load(f'./../models/imagenet_bcos_teacher_resnet34.pth'))"
   ]
  },
  {
   "cell_type": "code",
   "execution_count": null,
   "id": "1bb1b67f-5d9e-4b8b-98e5-a2548ae73d61",
   "metadata": {},
   "outputs": [],
   "source": [
    "%%time\n",
    "import matplotlib.pyplot as plt\n",
    "from utils import load_dataset\n",
    "\n",
    "def generate_bcos_explanations(model, images, labels):\n",
    "    model.eval()\n",
    "    images.requires_grad = True\n",
    "    with torch.enable_grad(), model.explanation_mode():\n",
    "        logits = model(images)[range(images.size()[0]), labels]\n",
    "        gradients = torch.autograd.grad(outputs=logits, inputs=images, grad_outputs=torch.ones_like(logits), retain_graph=True)[0]\n",
    "    return (images * gradients).sum(dim=1)\n",
    "\n",
    "image_size, idx_to_tag, num_classes, train_loader, validation_loader = load_dataset(\"imagenet\", 64, True)\n",
    "for images, labels in train_loader:\n",
    "    result = generate_bcos_explanations(model, images, labels)\n",
    "    break"
   ]
  },
  {
   "cell_type": "code",
   "execution_count": null,
   "id": "07d50c6f-d490-4b30-938e-ad571f5ca95e",
   "metadata": {},
   "outputs": [],
   "source": [
    "import numpy as np\n",
    "i = np.random.choice(range(train_loader.batch_size))\n",
    "plt.imshow((images[i][:3]*255).permute(1, 2, 0).cpu().detach().numpy())\n",
    "plt.show()\n",
    "plt.imshow((result[i]*255).cpu().detach().numpy())\n",
    "plt.show()"
   ]
  },
  {
   "cell_type": "markdown",
   "id": "e00b2df7-ac09-4e25-bf0e-05c55f5b0d3e",
   "metadata": {},
   "source": [
    "## GradCAM Explanations"
   ]
  },
  {
   "cell_type": "code",
   "execution_count": null,
   "id": "7627ad92-76a8-41a8-88b6-72c4c53aa893",
   "metadata": {},
   "outputs": [],
   "source": [
    "from torchvision import models\n",
    "model = models.resnet50(weights=models.ResNet50_Weights.IMAGENET1K_V1)"
   ]
  },
  {
   "cell_type": "code",
   "execution_count": null,
   "id": "f92db4e3-c3e8-4864-9123-57326dff67c4",
   "metadata": {},
   "outputs": [],
   "source": [
    "import torch\n",
    "from utils import load_dataset, load_model, generate_gradcam_heatmaps"
   ]
  },
  {
   "cell_type": "code",
   "execution_count": null,
   "id": "c28f7e78-49d5-4fd1-9d64-7c9ac4c9a68a",
   "metadata": {},
   "outputs": [],
   "source": [
    "device = torch.device(\"cpu\")\n",
    "image_size, idx_to_tag, num_classes, train_loader, validation_loader = load_dataset(\"imagenet\", 64, False)"
   ]
  },
  {
   "cell_type": "code",
   "execution_count": null,
   "id": "0cfc44d6-663b-4c6f-986c-f7e3d09df086",
   "metadata": {},
   "outputs": [],
   "source": [
    "%%time\n",
    "# model = load_model(False, \"resnet34\", True, num_classes, \"./../models/imagenet_teacher_resnet34.pth\")\n",
    "model.to(device)\n",
    "for images, labels in train_loader:\n",
    "    images, labels = images.to(device), labels.to(device)\n",
    "    heatmaps = generate_gradcam_heatmaps(model, \"resnet34\", images, labels, (224, 224))\n",
    "    break"
   ]
  },
  {
   "cell_type": "code",
   "execution_count": null,
   "id": "70e0beb7-7edc-46a9-a101-108598bf6d9c",
   "metadata": {},
   "outputs": [],
   "source": [
    "import numpy as np\n",
    "import matplotlib.pyplot as plt\n",
    "\n",
    "i = np.random.choice(range(train_loader.batch_size))\n",
    "plt.imshow((images[i][:3]*255).permute(1, 2, 0).cpu().detach().numpy())\n",
    "plt.show()\n",
    "plt.imshow((heatmaps[i]*255).cpu().detach().numpy())\n",
    "plt.show()"
   ]
  },
  {
   "cell_type": "code",
   "execution_count": null,
   "id": "048fc944-f14c-4691-baf7-53576b3f76ba",
   "metadata": {},
   "outputs": [],
   "source": [
    "plt.imshow((heatmaps[i]).cpu().detach().numpy())\n"
   ]
  },
  {
   "cell_type": "code",
   "execution_count": null,
   "id": "37b3cce9-9e00-44d1-b6ff-c8f7507fdbcf",
   "metadata": {},
   "outputs": [],
   "source": [
    "heatmaps[i]"
   ]
  },
  {
   "cell_type": "code",
   "execution_count": null,
   "id": "76590623-c65a-4891-9ca3-35a8edd141f5",
   "metadata": {},
   "outputs": [],
   "source": [
    "from torchvision.utils import save_image\n",
    "save_image(heatmaps[i], 'img1.png')"
   ]
  },
  {
   "cell_type": "code",
   "execution_count": null,
   "id": "817a3fdb-a1a0-41a0-bc56-34227f25b3ed",
   "metadata": {},
   "outputs": [],
   "source": [
    "from PIL import Image\n",
    "image = Image.open('img1.png')\n",
    "image"
   ]
  },
  {
   "cell_type": "code",
   "execution_count": null,
   "id": "e7a8fab2-a8de-4985-af9a-9cc8a96acebe",
   "metadata": {},
   "outputs": [],
   "source": [
    "import torchvision.transforms as transforms\n",
    "\n",
    "transform = transforms.Compose([\n",
    "    transforms.PILToTensor()\n",
    "])\n",
    "img_tensor = transform(image)\n",
    "print(img_tensor)"
   ]
  },
  {
   "cell_type": "code",
   "execution_count": null,
   "id": "c0e8a28e-c3a5-42fc-a030-e7b42b81b9f5",
   "metadata": {},
   "outputs": [],
   "source": [
    "torch.save(heatmaps[i], 'teacher_heatmap.pt')"
   ]
  },
  {
   "cell_type": "code",
   "execution_count": null,
   "id": "d8fd8f8f-e289-4a9a-893d-835f6419e0e0",
   "metadata": {},
   "outputs": [],
   "source": [
    "plt.imshow((torch.load('teacher_heatmap.pt')).cpu().detach().numpy())\n"
   ]
  },
  {
   "cell_type": "code",
   "execution_count": null,
   "id": "bcbd2b80-a84b-4204-af2f-e4106a68346b",
   "metadata": {},
   "outputs": [],
   "source": []
  }
 ],
 "metadata": {
  "kernelspec": {
   "display_name": "ekd",
   "language": "python",
   "name": "ekd"
  },
  "language_info": {
   "codemirror_mode": {
    "name": "ipython",
    "version": 3
   },
   "file_extension": ".py",
   "mimetype": "text/x-python",
   "name": "python",
   "nbconvert_exporter": "python",
   "pygments_lexer": "ipython3",
   "version": "3.10.14"
  }
 },
 "nbformat": 4,
 "nbformat_minor": 5
}
