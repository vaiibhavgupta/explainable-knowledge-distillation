{
 "cells": [
  {
   "cell_type": "code",
   "execution_count": null,
   "id": "46d61349",
   "metadata": {},
   "outputs": [],
   "source": [
    "from utils import load_model, load_dataset, evaluate\n",
    "from model_trainer import ModelTrainer\n",
    "import torch"
   ]
  },
  {
   "cell_type": "code",
   "execution_count": null,
   "id": "3564d4f4-0919-4df8-8d03-2474dda91875",
   "metadata": {},
   "outputs": [],
   "source": [
    "dataset_name = 'imagenet'\n",
    "batch_size = 32\n",
    "lr = 2e-5\n",
    "is_model_bcos = False\n",
    "device = torch.device(\"cuda:3\")\n",
    "image_size, idx_to_tag, num_classes, train_loader, validation_loader = load_dataset(dataset_name, batch_size, is_model_bcos)"
   ]
  },
  {
   "cell_type": "code",
   "execution_count": null,
   "id": "80747b7e-3be5-424b-ba89-be91f08ded0e",
   "metadata": {
    "scrolled": true
   },
   "outputs": [],
   "source": [
    "epochs = 20\n",
    "is_model_teacher = True\n",
    "model_name = \"resnet34\"\n",
    "\n",
    "training = False\n",
    "if training:\n",
    "    model = load_model(is_model_bcos, model_name, is_model_teacher, num_classes, state_dict=None)\n",
    "    teacher_model_trainer = ModelTrainer(model, model_name, is_model_bcos, is_model_teacher, dataset_name, train_loader, validation_loader, image_size, num_classes, idx_to_tag, batch_size, lr, epochs)\n",
    "    teacher_model_trainer.train()\n",
    "    del teacher_model_trainer\n",
    "else:\n",
    "    model = load_model(is_model_bcos, model_name, is_model_teacher, num_classes, state_dict=f\"./../models/{dataset_name}_{'bcos_' if is_model_bcos else ''}{'teacher' if is_model_teacher else 'student'}_{model_name}.pth\")\n",
    "    print(f\"Accuracy: {evaluate(model, validation_loader, idx_to_tag)}\")"
   ]
  },
  {
   "cell_type": "code",
   "execution_count": null,
   "id": "0a833850-8596-4273-aa07-bb1fe045b280",
   "metadata": {},
   "outputs": [],
   "source": [
    "epochs = 10\n",
    "is_model_teacher = False\n",
    "model_name = \"resnet18\"\n",
    "\n",
    "training = False\n",
    "if training:\n",
    "    model = load_model(is_model_bcos, model_name, is_model_teacher, num_classes, state_dict=None)\n",
    "    model_trainer = ModelTrainer(model, model_name, is_model_bcos, is_model_teacher, dataset_name, train_loader, validation_loader, image_size, num_classes, idx_to_tag, batch_size, lr, epochs)\n",
    "    model_trainer.train()\n",
    "    del model_trainer\n",
    "else:\n",
    "    model = load_model(is_model_bcos, model_name, is_model_teacher, num_classes, state_dict=f\"./../models/{dataset_name}_{'bcos_' if is_model_bcos else ''}{'teacher' if is_model_teacher else 'student'}_{model_name}.pth\")\n",
    "    print(f\"Accuracy: {evaluate(model, validation_loader, idx_to_tag)}\")"
   ]
  },
  {
   "cell_type": "code",
   "execution_count": null,
   "id": "67d3d86f-ccb2-40ac-9f5e-8a69302b9698",
   "metadata": {},
   "outputs": [],
   "source": [
    "epochs = 10\n",
    "is_model_teacher = False\n",
    "model_name = \"resnet18\"\n",
    "\n",
    "training = False\n",
    "if training:\n",
    "    model = load_model(is_model_bcos, model_name, is_model_teacher, num_classes, state_dict=None)\n",
    "    model_trainer = ModelTrainer(model, model_name, is_model_bcos, is_model_teacher, dataset_name, train_loader, validation_loader, image_size, num_classes, idx_to_tag, batch_size, lr, epochs)\n",
    "\n",
    "    teacher_model_name = \"resnet34\"\n",
    "    teacher_model = load_model(is_model_bcos, \"resnet34\", True, num_classes, state_dict=f\"./../models/{dataset_name}_{'bcos_' if is_model_bcos else ''}teacher_{teacher_model_name}.pth\")\n",
    "    model_trainer.train_simple_kd(teacher_model)\n",
    "    del model_trainer\n",
    "    del teacher_model\n",
    "else:\n",
    "    model = load_model(is_model_bcos, model_name, is_model_teacher, num_classes, state_dict=f\"./../models/{dataset_name}_{'bcos_' if is_model_bcos else ''}{'teacher' if is_model_teacher else 'student'}_{model_name}_simple_kd.pth\")\n",
    "    print(f\"Accuracy: {evaluate(model, validation_loader, idx_to_tag)}\")"
   ]
  },
  {
   "cell_type": "code",
   "execution_count": null,
   "id": "3cb02b10-bc4b-44f7-bfc9-113b5b2c26b2",
   "metadata": {},
   "outputs": [],
   "source": [
    "epochs = 10\n",
    "is_model_teacher = False\n",
    "model_name = \"resnet18\"\n",
    "\n",
    "training = False\n",
    "if training:\n",
    "    model = load_model(is_model_bcos, model_name, is_model_teacher, num_classes, state_dict=None)\n",
    "    model_trainer = ModelTrainer(model, model_name, is_model_bcos, is_model_teacher, dataset_name, train_loader, validation_loader, image_size, num_classes, idx_to_tag, batch_size, lr, epochs)\n",
    "\n",
    "    teacher_model_name = \"resnet34\"\n",
    "    teacher_model = load_model(is_model_bcos, \"resnet34\", True, num_classes, f\"./../models/{dataset_name}_{'bcos_' if is_model_bcos else ''}teacher_{teacher_model_name}.pth\")\n",
    "\n",
    "    model_trainer.train_explanable_kd(teacher_model_name, teacher_model, \"csm\")\n",
    "    del model_trainer\n",
    "    del teacher_model\n",
    "else:\n",
    "    model = load_model(is_model_bcos, model_name, is_model_teacher, num_classes, state_dict=f\"./../models/{dataset_name}_{'bcos_' if is_model_bcos else ''}{'teacher' if is_model_teacher else 'student'}_{model_name}_explainable_kd_csm.pth\")\n",
    "    print(f\"Accuracy: {evaluate(model, validation_loader, idx_to_tag)}\")"
   ]
  },
  {
   "cell_type": "code",
   "execution_count": null,
   "id": "499b642f-83d8-4ad4-9f67-bed8de6f76b6",
   "metadata": {},
   "outputs": [],
   "source": [
    "epochs = 10\n",
    "is_model_teacher = True\n",
    "model_name = \"resnet18\"\n",
    "\n",
    "training = True\n",
    "if training:\n",
    "    model = load_model(is_model_bcos, model_name, is_model_teacher, num_classes, state_dict=None)\n",
    "    model_trainer = ModelTrainer(model, model_name, is_model_bcos, is_model_teacher, dataset_name, train_loader, validation_loader, image_size, num_classes, idx_to_tag, batch_size, lr, epochs, device)\n",
    "\n",
    "    teacher_model_name = \"resnet34\"\n",
    "    teacher_model = load_model(is_model_bcos, \"resnet34\", True, num_classes, f\"./../models/{dataset_name}_{'bcos_' if is_model_bcos else ''}teacher_{teacher_model_name}.pth\")\n",
    "\n",
    "    model_trainer.train_explanable_kd(teacher_model_name, teacher_model, \"swd\")\n",
    "    del model_trainer\n",
    "    del teacher_model\n",
    "else:\n",
    "    model = load_model(is_model_bcos, model_name, is_model_teacher, num_classes, state_dict=f\"./../models/{dataset_name}_{'bcos_' if is_model_bcos else ''}{'teacher' if is_model_teacher else 'student'}_{model_name}_explainable_kd_swd.pth\")\n",
    "    print(f\"Accuracy: {evaluate(model, validation_loader, idx_to_tag)}\")"
   ]
  },
  {
   "cell_type": "code",
   "execution_count": null,
   "id": "569db6d5-9bd3-4d16-a1de-fcd693e3e7d4",
   "metadata": {},
   "outputs": [],
   "source": []
  }
 ],
 "metadata": {
  "kernelspec": {
   "display_name": "ekd",
   "language": "python",
   "name": "ekd"
  },
  "language_info": {
   "codemirror_mode": {
    "name": "ipython",
    "version": 3
   },
   "file_extension": ".py",
   "mimetype": "text/x-python",
   "name": "python",
   "nbconvert_exporter": "python",
   "pygments_lexer": "ipython3",
   "version": "3.10.14"
  }
 },
 "nbformat": 4,
 "nbformat_minor": 5
}
